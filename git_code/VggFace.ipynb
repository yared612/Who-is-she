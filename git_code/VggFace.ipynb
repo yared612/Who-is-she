{
 "cells": [
  {
   "cell_type": "code",
   "execution_count": 1,
   "metadata": {},
   "outputs": [
    {
     "ename": "ModuleNotFoundError",
     "evalue": "No module named 'tensorflow.keras'",
     "output_type": "error",
     "traceback": [
      "\u001b[1;31m---------------------------------------------------------------------------\u001b[0m",
      "\u001b[1;31mModuleNotFoundError\u001b[0m                       Traceback (most recent call last)",
      "\u001b[1;32m<ipython-input-1-a3af7d36a05c>\u001b[0m in \u001b[0;36m<module>\u001b[1;34m\u001b[0m\n\u001b[0;32m      2\u001b[0m \u001b[0mwarnings\u001b[0m\u001b[1;33m.\u001b[0m\u001b[0mfilterwarnings\u001b[0m\u001b[1;33m(\u001b[0m\u001b[1;34m'ignore'\u001b[0m\u001b[1;33m)\u001b[0m\u001b[1;33m\u001b[0m\u001b[1;33m\u001b[0m\u001b[0m\n\u001b[0;32m      3\u001b[0m \u001b[1;33m\u001b[0m\u001b[0m\n\u001b[1;32m----> 4\u001b[1;33m \u001b[1;32mimport\u001b[0m \u001b[0mtensorflow\u001b[0m\u001b[1;33m.\u001b[0m\u001b[0mkeras\u001b[0m \u001b[1;32mas\u001b[0m \u001b[0mkeras\u001b[0m\u001b[1;33m\u001b[0m\u001b[1;33m\u001b[0m\u001b[0m\n\u001b[0m\u001b[0;32m      5\u001b[0m \u001b[1;32mfrom\u001b[0m \u001b[0mtensorflow\u001b[0m\u001b[1;33m.\u001b[0m\u001b[0mkeras\u001b[0m\u001b[1;33m.\u001b[0m\u001b[0mpreprocessing\u001b[0m\u001b[1;33m.\u001b[0m\u001b[0mimage\u001b[0m \u001b[1;32mimport\u001b[0m \u001b[0mImageDataGenerator\u001b[0m\u001b[1;33m\u001b[0m\u001b[1;33m\u001b[0m\u001b[0m\n\u001b[0;32m      6\u001b[0m \u001b[1;32mfrom\u001b[0m \u001b[0mtensorflow\u001b[0m\u001b[1;33m.\u001b[0m\u001b[0mkeras\u001b[0m\u001b[1;33m.\u001b[0m\u001b[0mmodels\u001b[0m \u001b[1;32mimport\u001b[0m \u001b[0mSequential\u001b[0m\u001b[1;33m,\u001b[0m \u001b[0mload_model\u001b[0m\u001b[1;33m,\u001b[0m \u001b[0mModel\u001b[0m\u001b[1;33m\u001b[0m\u001b[1;33m\u001b[0m\u001b[0m\n",
      "\u001b[1;31mModuleNotFoundError\u001b[0m: No module named 'tensorflow.keras'"
     ]
    }
   ],
   "source": [
    "import warnings\n",
    "warnings.filterwarnings('ignore')\n",
    "\n",
    "import tensorflow.keras as keras\n",
    "from tensorflow.keras.preprocessing.image import ImageDataGenerator\n",
    "from tensorflow.keras.models import Sequential, load_model, Model\n",
    "from tensorflow.keras.layers import Dense, Dropout, Activation, Flatten\n",
    "from tensorflow.keras.layers import Conv2D, MaxPooling2D, BatchNormalization, GlobalAveragePooling2D\n",
    "from tensorflow.keras.callbacks import EarlyStopping, ModelCheckpoint\n",
    "\n",
    "from keras.engine import  Model\n",
    "from keras.layers import Flatten, Dense, Input\n",
    "from keras_vggface.vggface import VGGFace\n",
    "\n",
    "import matplotlib.pyplot as plt\n",
    "import pandas as pd\n",
    "import numpy as np\n",
    "\n",
    "from utils import load_data, load_test_data\n",
    "from utils import num_classes, epochs, batch_size\n",
    "\n",
    "#custom parameters\n",
    "nb_class = 5\n",
    "\n",
    "vgg_model = VGGFace(include_top=False, input_shape=(224, 224, 3), model='resnet50')\n",
    "x = vgg_model.get_layer('avg_pool').output\n",
    "x = Flatten(name='flatten')(x)\n",
    "# x = Dropout(0.8)(x)\n",
    "out = Dense(nb_class, activation='softmax', name='classifier')(x)\n",
    "custom_vgg_model = Model(vgg_model.input, out)\n",
    "custom_vgg_model.summary()"
   ]
  },
  {
   "cell_type": "code",
   "execution_count": null,
   "metadata": {},
   "outputs": [],
   "source": [
    "data_dir_path = '.'\n",
    "target_label_file_name = 'mapping.txt'\n",
    "\n",
    "target_label_file_path = '/'.join((data_dir_path, target_label_file_name))\n",
    "\n",
    "with open(target_label_file_path) as f:\n",
    "    all_lines = [line.split(', ') for line in f.read().splitlines()]\n",
    "\n",
    "target_labels = dict()\n",
    "for line in all_lines:\n",
    "    target_class, target_label = line\n",
    "    target_labels[target_class] = target_label"
   ]
  },
  {
   "cell_type": "code",
   "execution_count": null,
   "metadata": {},
   "outputs": [],
   "source": [
    "import os\n",
    "import cv2\n",
    "import pandas as pd\n",
    "from glob import glob\n",
    "\n",
    "from sklearn.utils import shuffle\n",
    "from sklearn.model_selection import train_test_split\n",
    "\n",
    "from time import time\n",
    "# 指定存放 train 資料集的資料夾\n",
    "train_dir = '/'.join((data_dir_path, 'training'))\n",
    "img_path_list = []\n",
    "img_class_list = []\n",
    "for key in target_labels.keys():\n",
    "    for file_path in glob('{}/{}/*.png'.format(train_dir, key)):\n",
    "        img_class_list.append(target_labels[key])\n",
    "        img_path_list.append(file_path)\n",
    "\n",
    "data_list = pd.DataFrame({'class': img_class_list, 'path': img_path_list})"
   ]
  },
  {
   "cell_type": "code",
   "execution_count": 4,
   "metadata": {},
   "outputs": [
    {
     "data": {
      "text/html": [
       "<div>\n",
       "<style scoped>\n",
       "    .dataframe tbody tr th:only-of-type {\n",
       "        vertical-align: middle;\n",
       "    }\n",
       "\n",
       "    .dataframe tbody tr th {\n",
       "        vertical-align: top;\n",
       "    }\n",
       "\n",
       "    .dataframe thead th {\n",
       "        text-align: right;\n",
       "    }\n",
       "</style>\n",
       "<table border=\"1\" class=\"dataframe\">\n",
       "  <thead>\n",
       "    <tr style=\"text-align: right;\">\n",
       "      <th></th>\n",
       "      <th>class</th>\n",
       "      <th>path</th>\n",
       "    </tr>\n",
       "  </thead>\n",
       "  <tbody>\n",
       "    <tr>\n",
       "      <th>119</th>\n",
       "      <td>1</td>\n",
       "      <td>./training/risa/071.png</td>\n",
       "    </tr>\n",
       "    <tr>\n",
       "      <th>516</th>\n",
       "      <td>4</td>\n",
       "      <td>./training/neru/009.png</td>\n",
       "    </tr>\n",
       "    <tr>\n",
       "      <th>340</th>\n",
       "      <td>3</td>\n",
       "      <td>./training/akane/092.png</td>\n",
       "    </tr>\n",
       "    <tr>\n",
       "      <th>182</th>\n",
       "      <td>1</td>\n",
       "      <td>./training/risa/057.png</td>\n",
       "    </tr>\n",
       "    <tr>\n",
       "      <th>451</th>\n",
       "      <td>4</td>\n",
       "      <td>./training/neru/092.png</td>\n",
       "    </tr>\n",
       "    <tr>\n",
       "      <th>230</th>\n",
       "      <td>2</td>\n",
       "      <td>./training/yui/061.png</td>\n",
       "    </tr>\n",
       "    <tr>\n",
       "      <th>487</th>\n",
       "      <td>4</td>\n",
       "      <td>./training/neru/088.png</td>\n",
       "    </tr>\n",
       "    <tr>\n",
       "      <th>429</th>\n",
       "      <td>4</td>\n",
       "      <td>./training/neru/047.png</td>\n",
       "    </tr>\n",
       "    <tr>\n",
       "      <th>273</th>\n",
       "      <td>2</td>\n",
       "      <td>./training/yui/081.png</td>\n",
       "    </tr>\n",
       "    <tr>\n",
       "      <th>414</th>\n",
       "      <td>3</td>\n",
       "      <td>./training/akane/097.png</td>\n",
       "    </tr>\n",
       "  </tbody>\n",
       "</table>\n",
       "</div>"
      ],
      "text/plain": [
       "    class                      path\n",
       "119     1   ./training/risa/071.png\n",
       "516     4   ./training/neru/009.png\n",
       "340     3  ./training/akane/092.png\n",
       "182     1   ./training/risa/057.png\n",
       "451     4   ./training/neru/092.png\n",
       "230     2    ./training/yui/061.png\n",
       "487     4   ./training/neru/088.png\n",
       "429     4   ./training/neru/047.png\n",
       "273     2    ./training/yui/081.png\n",
       "414     3  ./training/akane/097.png"
      ]
     },
     "execution_count": 4,
     "metadata": {},
     "output_type": "execute_result"
    }
   ],
   "source": [
    "# 將資料清單隨機打亂\n",
    "rand_seed = int(time())\n",
    "data_list = shuffle(data_list, random_state=rand_seed)\n",
    "data_list.head(10)"
   ]
  },
  {
   "cell_type": "code",
   "execution_count": 5,
   "metadata": {},
   "outputs": [],
   "source": [
    "X = pd.DataFrame(data_list['path'], columns=['path'])\n",
    "y = pd.DataFrame(data_list['class'], columns=['class'])\n",
    "X_train, X_valid, y_train, y_valid = train_test_split(X, y, test_size=0.25)"
   ]
  },
  {
   "cell_type": "code",
   "execution_count": 6,
   "metadata": {},
   "outputs": [],
   "source": [
    "y_one_hot=pd.get_dummies(y_train)\n",
    "y_train=y_one_hot.values"
   ]
  },
  {
   "cell_type": "code",
   "execution_count": 7,
   "metadata": {},
   "outputs": [],
   "source": [
    "y_one_hot1=pd.get_dummies(y_valid)\n",
    "y_valid=y_one_hot1.values"
   ]
  },
  {
   "cell_type": "code",
   "execution_count": 8,
   "metadata": {},
   "outputs": [],
   "source": [
    "import numpy as np\n",
    "from keras.preprocessing import image\n",
    "from keras_vggface.vggface import VGGFace\n",
    "from keras_vggface import utils\n",
    "\n",
    "imagearray = []\n",
    "imagearray1 = []\n",
    "# Change the image path with yours.\n",
    "for path in np.array(X_train['path']):\n",
    "    img = cv2.imread(path)\n",
    "    img = cv2.resize(img, (224, 224))\n",
    "    img = img.astype(np.float32)\n",
    "    img=utils.preprocess_input(img, version=2)\n",
    "    imagearray.append(img)\n",
    "train_x=np.array(imagearray).astype(np.float32)\n",
    "for path in np.array(X_valid['path']):\n",
    "    img1 = cv2.imread(path)\n",
    "    img1 = cv2.resize(img1, (224, 224))\n",
    "    img1=img1.astype(np.float32)\n",
    "    imagearray1.append(img1)\n",
    "val_x=np.array(imagearray1).astype(np.float32)"
   ]
  },
  {
   "cell_type": "code",
   "execution_count": 9,
   "metadata": {},
   "outputs": [
    {
     "data": {
      "text/plain": [
       "(136, 224, 224, 3)"
      ]
     },
     "execution_count": 9,
     "metadata": {},
     "output_type": "execute_result"
    }
   ],
   "source": [
    "val_x.shape"
   ]
  },
  {
   "cell_type": "code",
   "execution_count": 10,
   "metadata": {},
   "outputs": [
    {
     "name": "stdout",
     "output_type": "stream",
     "text": [
      "Epoch 1/200\n",
      "41/40 [==============================] - 13s 311ms/step - loss: 1.2790 - acc: 0.6024 - val_loss: 1.6497 - val_acc: 0.5882\n",
      "\n",
      "Epoch 00001: val_loss improved from inf to 1.64967, saving model to ./saved_models/VggFacev1.h5\n",
      "Epoch 2/200\n",
      "41/40 [==============================] - 4s 109ms/step - loss: 0.1775 - acc: 0.9366 - val_loss: 1.2933 - val_acc: 0.6765\n",
      "\n",
      "Epoch 00002: val_loss improved from 1.64967 to 1.29327, saving model to ./saved_models/VggFacev1.h5\n",
      "Epoch 3/200\n",
      "41/40 [==============================] - 4s 109ms/step - loss: 0.0573 - acc: 0.9854 - val_loss: 1.4046 - val_acc: 0.6544\n",
      "\n",
      "Epoch 00003: val_loss did not improve from 1.29327\n",
      "Epoch 4/200\n",
      "41/40 [==============================] - 4s 109ms/step - loss: 0.0614 - acc: 0.9829 - val_loss: 1.1372 - val_acc: 0.6765\n",
      "\n",
      "Epoch 00004: val_loss improved from 1.29327 to 1.13718, saving model to ./saved_models/VggFacev1.h5\n",
      "Epoch 5/200\n",
      "41/40 [==============================] - 4s 109ms/step - loss: 0.0271 - acc: 0.9951 - val_loss: 1.1636 - val_acc: 0.6691\n",
      "\n",
      "Epoch 00005: val_loss did not improve from 1.13718\n",
      "Epoch 6/200\n",
      "41/40 [==============================] - 4s 108ms/step - loss: 0.0360 - acc: 0.9927 - val_loss: 1.1556 - val_acc: 0.6765\n",
      "\n",
      "Epoch 00006: val_loss did not improve from 1.13718\n",
      "Epoch 7/200\n",
      "41/40 [==============================] - 4s 109ms/step - loss: 0.0072 - acc: 1.0000 - val_loss: 1.0290 - val_acc: 0.6912\n",
      "\n",
      "Epoch 00007: val_loss improved from 1.13718 to 1.02898, saving model to ./saved_models/VggFacev1.h5\n",
      "Epoch 8/200\n",
      "41/40 [==============================] - 4s 108ms/step - loss: 0.0214 - acc: 0.9951 - val_loss: 1.0097 - val_acc: 0.6985\n",
      "\n",
      "Epoch 00008: val_loss improved from 1.02898 to 1.00971, saving model to ./saved_models/VggFacev1.h5\n",
      "Epoch 9/200\n",
      "41/40 [==============================] - 4s 109ms/step - loss: 0.0131 - acc: 0.9976 - val_loss: 0.9498 - val_acc: 0.7059\n",
      "\n",
      "Epoch 00009: val_loss improved from 1.00971 to 0.94980, saving model to ./saved_models/VggFacev1.h5\n",
      "Epoch 10/200\n",
      "41/40 [==============================] - 4s 109ms/step - loss: 0.0158 - acc: 1.0000 - val_loss: 0.8642 - val_acc: 0.7206\n",
      "\n",
      "Epoch 00010: val_loss improved from 0.94980 to 0.86420, saving model to ./saved_models/VggFacev1.h5\n",
      "Epoch 11/200\n",
      "41/40 [==============================] - 4s 109ms/step - loss: 0.0095 - acc: 1.0000 - val_loss: 0.6650 - val_acc: 0.7574\n",
      "\n",
      "Epoch 00011: val_loss improved from 0.86420 to 0.66502, saving model to ./saved_models/VggFacev1.h5\n",
      "Epoch 12/200\n",
      "41/40 [==============================] - 4s 109ms/step - loss: 0.0069 - acc: 1.0000 - val_loss: 0.6046 - val_acc: 0.7647\n",
      "\n",
      "Epoch 00012: val_loss improved from 0.66502 to 0.60464, saving model to ./saved_models/VggFacev1.h5\n",
      "Epoch 13/200\n",
      "41/40 [==============================] - 4s 109ms/step - loss: 0.0107 - acc: 0.9976 - val_loss: 0.6017 - val_acc: 0.7868\n",
      "\n",
      "Epoch 00013: val_loss improved from 0.60464 to 0.60175, saving model to ./saved_models/VggFacev1.h5\n",
      "Epoch 14/200\n",
      "41/40 [==============================] - 4s 109ms/step - loss: 0.0091 - acc: 1.0000 - val_loss: 0.6222 - val_acc: 0.7941\n",
      "\n",
      "Epoch 00014: val_loss did not improve from 0.60175\n",
      "Epoch 15/200\n",
      "41/40 [==============================] - 4s 109ms/step - loss: 0.0055 - acc: 1.0000 - val_loss: 0.5772 - val_acc: 0.8235\n",
      "\n",
      "Epoch 00015: val_loss improved from 0.60175 to 0.57716, saving model to ./saved_models/VggFacev1.h5\n",
      "Epoch 16/200\n",
      "41/40 [==============================] - 4s 109ms/step - loss: 0.0176 - acc: 0.9951 - val_loss: 0.6082 - val_acc: 0.8015\n",
      "\n",
      "Epoch 00016: val_loss did not improve from 0.57716\n",
      "Epoch 17/200\n",
      "41/40 [==============================] - 4s 108ms/step - loss: 0.0134 - acc: 0.9951 - val_loss: 0.6200 - val_acc: 0.7868\n",
      "\n",
      "Epoch 00017: val_loss did not improve from 0.57716\n",
      "Epoch 18/200\n",
      "41/40 [==============================] - 4s 109ms/step - loss: 0.0055 - acc: 0.9976 - val_loss: 0.6173 - val_acc: 0.7794\n",
      "\n",
      "Epoch 00018: val_loss did not improve from 0.57716\n",
      "Epoch 19/200\n",
      "41/40 [==============================] - 4s 108ms/step - loss: 0.0045 - acc: 1.0000 - val_loss: 0.6142 - val_acc: 0.7794\n",
      "\n",
      "Epoch 00019: val_loss did not improve from 0.57716\n",
      "Epoch 20/200\n",
      "41/40 [==============================] - 4s 109ms/step - loss: 0.0043 - acc: 1.0000 - val_loss: 0.5875 - val_acc: 0.7941\n",
      "\n",
      "Epoch 00020: val_loss did not improve from 0.57716\n",
      "Epoch 21/200\n",
      "41/40 [==============================] - 4s 109ms/step - loss: 0.0134 - acc: 0.9976 - val_loss: 0.8586 - val_acc: 0.7794\n",
      "\n",
      "Epoch 00021: val_loss did not improve from 0.57716\n",
      "Epoch 22/200\n",
      "41/40 [==============================] - 4s 109ms/step - loss: 0.0025 - acc: 1.0000 - val_loss: 0.8252 - val_acc: 0.7868\n",
      "\n",
      "Epoch 00022: val_loss did not improve from 0.57716\n",
      "Epoch 23/200\n",
      "41/40 [==============================] - 4s 108ms/step - loss: 0.0016 - acc: 1.0000 - val_loss: 0.6885 - val_acc: 0.7941\n",
      "\n",
      "Epoch 00023: val_loss did not improve from 0.57716\n",
      "Epoch 24/200\n",
      "41/40 [==============================] - 4s 108ms/step - loss: 0.0033 - acc: 1.0000 - val_loss: 0.6304 - val_acc: 0.7868\n",
      "\n",
      "Epoch 00024: val_loss did not improve from 0.57716\n",
      "Epoch 25/200\n",
      "41/40 [==============================] - 4s 109ms/step - loss: 0.0018 - acc: 1.0000 - val_loss: 0.6588 - val_acc: 0.7794\n",
      "\n",
      "Epoch 00025: val_loss did not improve from 0.57716\n",
      "Epoch 00025: early stopping\n"
     ]
    }
   ],
   "source": [
    "from keras.optimizers import adam\n",
    "model_name = 'VggFacev1'\n",
    "\n",
    "datagen = ImageDataGenerator(\n",
    "    rotation_range=10,\n",
    "    fill_mode='nearest')\n",
    "\n",
    "opt = adam(lr=1e-5, decay=1e-6)\n",
    "\n",
    "\n",
    "model_path = './saved_models/{}.h5'.format(model_name)\n",
    "\n",
    "checkpoint = ModelCheckpoint(model_path, monitor='val_loss', save_best_only=True, verbose=1)\n",
    "earlystop = EarlyStopping(monitor='val_loss', patience=10, verbose=1)\n",
    "\n",
    "custom_vgg_model.compile(loss='categorical_crossentropy',\n",
    "              optimizer=opt, metrics=['accuracy'])\n",
    "\n",
    "batch_size = 10\n",
    "model_history = custom_vgg_model.fit_generator(datagen.flow(train_x, y_train, batch_size = batch_size),\n",
    "                                    steps_per_epoch=len(train_x)/batch_size,\n",
    "                                    epochs = epochs,\n",
    "                                    validation_data = (val_x, y_valid),\n",
    "                                    callbacks = [checkpoint, earlystop])"
   ]
  },
  {
   "cell_type": "code",
   "execution_count": 11,
   "metadata": {},
   "outputs": [
    {
     "data": {
      "image/png": "[encoded data removed]",
      "text/plain": [
       "<Figure size 432x288 with 1 Axes>"
      ]
     },
     "metadata": {
      "needs_background": "light"
     },
     "output_type": "display_data"
    }
   ],
   "source": [
    "training_loss = model_history.history['loss']\n",
    "val_loss = model_history.history['val_loss']\n",
    "\n",
    "plt.plot(training_loss, label=\"training_loss\")\n",
    "plt.plot(val_loss, label=\"validation_loss\")\n",
    "plt.xlabel(\"Epochs\")\n",
    "plt.ylabel(\"Loss\")\n",
    "plt.title(\"Learning Curve\")\n",
    "plt.legend(loc='best')\n",
    "plt.show()"
   ]
  },
  {
   "cell_type": "code",
   "execution_count": 12,
   "metadata": {},
   "outputs": [
    {
     "data": {
      "image/png": "[encoded data removed]",
      "text/plain": [
       "<Figure size 432x288 with 1 Axes>"
      ]
     },
     "metadata": {
      "needs_background": "light"
     },
     "output_type": "display_data"
    }
   ],
   "source": [
    "training_acc = model_history.history['acc']\n",
    "val_acc = model_history.history['val_acc']\n",
    "\n",
    "plt.plot(training_acc, label=\"training_acc\")\n",
    "plt.plot(val_acc, label=\"validation_acc\")\n",
    "plt.xlabel(\"Epochs\")\n",
    "plt.ylabel(\"Acc\")\n",
    "plt.title(\"Learning Curve\")\n",
    "plt.legend(loc='best')\n",
    "plt.show()"
   ]
  },
  {
   "cell_type": "code",
   "execution_count": 13,
   "metadata": {},
   "outputs": [],
   "source": [
    "import os\n",
    "import cv2\n",
    "import pandas as pd\n",
    "from glob import glob\n",
    "data_dir_path = './'\n",
    "testset_dir = '/'.join((data_dir_path, 'testing'))\n",
    "img_path_list = []\n",
    "for img_path in glob('{}/*.png'.format(testset_dir)):\n",
    "    img_path_list.append(img_path)\n"
   ]
  },
  {
   "cell_type": "code",
   "execution_count": 14,
   "metadata": {},
   "outputs": [],
   "source": [
    "import numpy as np\n",
    "from keras.preprocessing import image\n",
    "from keras_vggface.vggface import VGGFace\n",
    "from keras_vggface import utils\n",
    "X_test = []\n",
    "X_id = []\n",
    "for path in img_path_list:\n",
    "    img = cv2.imread(path)\n",
    "    img = cv2.resize(img, (224, 224))\n",
    "    img = img.astype(np.float32)\n",
    "    img=utils.preprocess_input(img, version=2)\n",
    "    X_test.append(img)\n",
    "    img_id = path.split('/')[-1].split('.')[0]\n",
    "    X_id.append(img_id)\n",
    "test_data=np.array(X_test).astype(np.float32)"
   ]
  },
  {
   "cell_type": "code",
   "execution_count": 15,
   "metadata": {},
   "outputs": [],
   "source": [
    "from tensorflow.keras.models import Sequential, load_model, Model\n",
    "model_name = 'VggFacev1'\n",
    "model_path = './saved_models/{}.h5'.format(model_name)\n",
    "model = load_model(model_path)\n",
    "\n",
    "y_test_pred_prob = model.predict(test_data)\n",
    "y_test_pred = y_test_pred_prob.argmax(axis=-1)\n",
    "y_test_pred_df = pd.DataFrame({'id': np.array(X_id), 'class':y_test_pred}).sort_values(by='id')\n",
    "y_test_pred_df.to_csv('./submissions/{}.csv'.format(model_name), index=False)"
   ]
  },
  {
   "cell_type": "code",
   "execution_count": null,
   "metadata": {},
   "outputs": [],
   "source": []
  }
 ],
 "metadata": {
  "kernelspec": {
   "display_name": "Python 3",
   "language": "python",
   "name": "python3"
  },
  "language_info": {
   "codemirror_mode": {
    "name": "ipython",
    "version": 3
   },
   "file_extension": ".py",
   "mimetype": "text/x-python",
   "name": "python",
   "nbconvert_exporter": "python",
   "pygments_lexer": "ipython3",
   "version": "3.6.9"
  }
 },
 "nbformat": 4,
 "nbformat_minor": 2
}
